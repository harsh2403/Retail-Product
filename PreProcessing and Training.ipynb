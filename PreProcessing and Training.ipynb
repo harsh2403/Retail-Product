{
 "cells": [
  {
   "cell_type": "code",
   "execution_count": 72,
   "metadata": {},
   "outputs": [],
   "source": [
    "import pandas as pd\n",
    "import numpy as np\n",
    "import matplotlib.pyplot as plt\n",
    "import os\n",
    "import cv2\n",
    "from sklearn.model_selection import train_test_split\n",
    "from tensorflow.keras.models import Sequential\n",
    "from tensorflow.keras.layers import Dense, Flatten, Dropout, Activation, Conv2D, MaxPooling2D\n",
    "from sklearn.metrics import accuracy_score\n",
    "from sklearn.metrics import f1_score"
   ]
  },
  {
   "cell_type": "code",
   "execution_count": 2,
   "metadata": {},
   "outputs": [
    {
     "data": {
      "text/plain": [
       "['alcohol',\n",
       " 'candy',\n",
       " 'canned_food',\n",
       " 'chocolate',\n",
       " 'dessert',\n",
       " 'dried_food',\n",
       " 'dried_fruit',\n",
       " 'drink',\n",
       " 'gum',\n",
       " 'instant_drink',\n",
       " 'instant_noodles',\n",
       " 'milk',\n",
       " 'personal_hygiene',\n",
       " 'puffed_food',\n",
       " 'seasoner',\n",
       " 'stationery',\n",
       " 'tissue']"
      ]
     },
     "execution_count": 2,
     "metadata": {},
     "output_type": "execute_result"
    }
   ],
   "source": [
    "os.listdir('archive (1)/retail_product_checkout/Data')"
   ]
  },
  {
   "cell_type": "markdown",
   "metadata": {},
   "source": [
    "### Now we will create a function to convert images into arrays"
   ]
  },
  {
   "cell_type": "code",
   "execution_count": 29,
   "metadata": {},
   "outputs": [],
   "source": [
    "X = []\n",
    "y = []"
   ]
  },
  {
   "cell_type": "code",
   "execution_count": 30,
   "metadata": {},
   "outputs": [],
   "source": [
    "def convert(path):\n",
    "        cat = 0\n",
    "        for p in os.listdir(path):\n",
    "            new = os.path.join(path,p)\n",
    "            for i in os.listdir(new):\n",
    "                img_array = cv2.imread(os.path.join(new,i),cv2.IMREAD_GRAYSCALE)\n",
    "                new_img_array = cv2.resize(img_array, dsize=(80, 80))\n",
    "                X.append(new_img_array)\n",
    "                y.append(cat) \n",
    "            cat = cat + 1\n",
    "            \n",
    "       "
   ]
  },
  {
   "cell_type": "code",
   "execution_count": null,
   "metadata": {},
   "outputs": [],
   "source": [
    " "
   ]
  },
  {
   "cell_type": "code",
   "execution_count": 32,
   "metadata": {},
   "outputs": [],
   "source": [
    "convert('archive (1)/retail_product_checkout/Data')"
   ]
  },
  {
   "cell_type": "code",
   "execution_count": null,
   "metadata": {},
   "outputs": [],
   "source": []
  },
  {
   "cell_type": "code",
   "execution_count": 28,
   "metadata": {},
   "outputs": [],
   "source": []
  },
  {
   "cell_type": "code",
   "execution_count": 33,
   "metadata": {},
   "outputs": [
    {
     "data": {
      "text/plain": [
       "{0, 1, 2, 3, 4, 5, 6, 7, 8, 9, 10, 11, 12, 13, 14, 15, 16}"
      ]
     },
     "execution_count": 33,
     "metadata": {},
     "output_type": "execute_result"
    }
   ],
   "source": [
    "t = set(y)\n",
    "t"
   ]
  },
  {
   "cell_type": "code",
   "execution_count": 34,
   "metadata": {},
   "outputs": [
    {
     "data": {
      "text/plain": [
       "53738"
      ]
     },
     "execution_count": 34,
     "metadata": {},
     "output_type": "execute_result"
    }
   ],
   "source": [
    "len(y)"
   ]
  },
  {
   "cell_type": "code",
   "execution_count": 35,
   "metadata": {},
   "outputs": [],
   "source": [
    "X = np.array(X).reshape(-1, 80,80,1)\n",
    "y = np.array(y)"
   ]
  },
  {
   "cell_type": "markdown",
   "metadata": {},
   "source": [
    "Normalize the data"
   ]
  },
  {
   "cell_type": "code",
   "execution_count": 36,
   "metadata": {},
   "outputs": [],
   "source": [
    "X = X/255"
   ]
  },
  {
   "cell_type": "code",
   "execution_count": 37,
   "metadata": {},
   "outputs": [],
   "source": [
    "X_train, X_test, y_train, y_test = train_test_split(X,y,train_size=0.8,random_state=42)"
   ]
  },
  {
   "cell_type": "code",
   "execution_count": 38,
   "metadata": {},
   "outputs": [
    {
     "data": {
      "text/plain": [
       "42990"
      ]
     },
     "execution_count": 38,
     "metadata": {},
     "output_type": "execute_result"
    }
   ],
   "source": [
    "len(X_train)"
   ]
  },
  {
   "cell_type": "code",
   "execution_count": 41,
   "metadata": {},
   "outputs": [],
   "source": [
    "model = Sequential()\n",
    "# Adds a densely-connected layer with 64 units to the model:\n",
    "model.add(Conv2D(64,(3,3), activation = 'relu', input_shape = X_train.shape[1:]))\n",
    "model.add(MaxPooling2D(pool_size = (2,2)))\n",
    "# Add another:\n",
    "model.add(Conv2D(64,(3,3), activation = 'relu'))\n",
    "model.add(MaxPooling2D(pool_size = (2,2)))\n",
    "\n",
    "model.add(Flatten())\n",
    "model.add(Dense(64, activation='relu'))\n",
    "# Add a softmax layer with 10 output units:\n",
    "model.add(Dense(17, activation='softmax'))"
   ]
  },
  {
   "cell_type": "code",
   "execution_count": 42,
   "metadata": {},
   "outputs": [],
   "source": [
    "model.compile(optimizer=\"adam\",\n",
    "              loss='sparse_categorical_crossentropy',\n",
    "              metrics=['accuracy'])"
   ]
  },
  {
   "cell_type": "code",
   "execution_count": 43,
   "metadata": {},
   "outputs": [
    {
     "name": "stdout",
     "output_type": "stream",
     "text": [
      "Epoch 1/10\n",
      "1075/1075 [==============================] - 327s 303ms/step - loss: 1.4123 - accuracy: 0.5242 - val_loss: 0.7880 - val_accuracy: 0.7235\n",
      "Epoch 2/10\n",
      "1075/1075 [==============================] - 327s 304ms/step - loss: 0.5599 - accuracy: 0.8001 - val_loss: 0.4637 - val_accuracy: 0.8302\n",
      "Epoch 3/10\n",
      "1075/1075 [==============================] - 365s 340ms/step - loss: 0.3308 - accuracy: 0.8836 - val_loss: 0.2911 - val_accuracy: 0.8926\n",
      "Epoch 4/10\n",
      "1075/1075 [==============================] - 346s 322ms/step - loss: 0.2181 - accuracy: 0.9217 - val_loss: 0.2176 - val_accuracy: 0.9229\n",
      "Epoch 5/10\n",
      "1075/1075 [==============================] - 340s 317ms/step - loss: 0.1566 - accuracy: 0.9460 - val_loss: 0.2119 - val_accuracy: 0.9261\n",
      "Epoch 6/10\n",
      "1075/1075 [==============================] - 370s 344ms/step - loss: 0.1225 - accuracy: 0.9574 - val_loss: 0.1758 - val_accuracy: 0.9367\n",
      "Epoch 7/10\n",
      "1075/1075 [==============================] - 332s 309ms/step - loss: 0.0958 - accuracy: 0.9678 - val_loss: 0.2015 - val_accuracy: 0.9337\n",
      "Epoch 8/10\n",
      "1075/1075 [==============================] - 399s 371ms/step - loss: 0.0820 - accuracy: 0.9728 - val_loss: 0.1463 - val_accuracy: 0.9507\n",
      "Epoch 9/10\n",
      "1075/1075 [==============================] - 384s 357ms/step - loss: 0.0703 - accuracy: 0.9760 - val_loss: 0.1628 - val_accuracy: 0.9436\n",
      "Epoch 10/10\n",
      "1075/1075 [==============================] - 380s 354ms/step - loss: 0.0597 - accuracy: 0.9798 - val_loss: 0.2718 - val_accuracy: 0.9197\n"
     ]
    },
    {
     "data": {
      "text/plain": [
       "<tensorflow.python.keras.callbacks.History at 0x20eb6f45630>"
      ]
     },
     "execution_count": 43,
     "metadata": {},
     "output_type": "execute_result"
    }
   ],
   "source": [
    "model.fit(X_train, y_train, epochs=10, batch_size=32, validation_split=0.2)"
   ]
  },
  {
   "cell_type": "code",
   "execution_count": 44,
   "metadata": {},
   "outputs": [],
   "source": [
    "prediction = model.predict(X_test)\n"
   ]
  },
  {
   "cell_type": "code",
   "execution_count": 68,
   "metadata": {},
   "outputs": [],
   "source": [
    "results = np.argmax(prediction,axis=1)"
   ]
  },
  {
   "cell_type": "code",
   "execution_count": null,
   "metadata": {},
   "outputs": [],
   "source": []
  },
  {
   "cell_type": "code",
   "execution_count": 71,
   "metadata": {
    "scrolled": true
   },
   "outputs": [
    {
     "name": "stdout",
     "output_type": "stream",
     "text": [
      "model accuracy score:  0.9095645701525865\n"
     ]
    }
   ],
   "source": [
    "print(\"model accuracy score: \", accuracy_score(y_test, results))"
   ]
  },
  {
   "cell_type": "code",
   "execution_count": 79,
   "metadata": {},
   "outputs": [
    {
     "name": "stdout",
     "output_type": "stream",
     "text": [
      "F1 score:  0.9021954238704862\n"
     ]
    }
   ],
   "source": [
    "print('F1 score: ', f1_score(y_test,results, average='macro'))"
   ]
  },
  {
   "cell_type": "code",
   "execution_count": 80,
   "metadata": {},
   "outputs": [],
   "source": [
    "model.save('model.h5')"
   ]
  },
  {
   "cell_type": "code",
   "execution_count": null,
   "metadata": {},
   "outputs": [],
   "source": []
  }
 ],
 "metadata": {
  "kernelspec": {
   "display_name": "Python 3",
   "language": "python",
   "name": "python3"
  },
  "language_info": {
   "codemirror_mode": {
    "name": "ipython",
    "version": 3
   },
   "file_extension": ".py",
   "mimetype": "text/x-python",
   "name": "python",
   "nbconvert_exporter": "python",
   "pygments_lexer": "ipython3",
   "version": "3.7.1"
  }
 },
 "nbformat": 4,
 "nbformat_minor": 4
}
